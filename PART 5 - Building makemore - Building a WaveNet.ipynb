{
 "cells": [
  {
   "cell_type": "markdown",
   "metadata": {},
   "source": [
    "<h1 style=\"text-align:center;\">Building makemore (V) : Building a WaveNet</h1>\n"
   ]
  },
  {
   "cell_type": "markdown",
   "metadata": {},
   "source": [
    "WaveNet is a deep learning architecture primarily used for generating raw audio waveforms, developed by researchers at DeepMind. It employs a deep neural network with convolutional layers to model the conditional probability distribution of audio samples given previous samples. WaveNet is notable for its ability to generate high-fidelity audio with fine-grained control over characteristics like pitch, duration, and timbre. It has applications in speech synthesis, music generation, and audio processing tasks.\n",
    "\n",
    "![alt](wavenet.webp)\n",
    "\n",
    "Useful links :\n",
    "\n",
    "- [WaveNet 2016 paper from DeepMin](https://arxiv.org/pdf/1609.03499.pdf)\n",
    "- [Bengio et al. 2003 MLP language model paper](https://www.jmlr.org/papers/volume3/bengio03a/bengio03a.pdf)"
   ]
  },
  {
   "cell_type": "code",
   "execution_count": 22,
   "metadata": {},
   "outputs": [],
   "source": [
    "import torch\n",
    "import torch.nn.functional as F\n",
    "import matplotlib.pyplot as plt # for making figures\n",
    "%matplotlib inline\n",
    "\n",
    "import warnings\n",
    "warnings.filterwarnings(\"ignore\")"
   ]
  },
  {
   "cell_type": "markdown",
   "metadata": {},
   "source": [
    "# Loading the data\n"
   ]
  },
  {
   "cell_type": "code",
   "execution_count": 23,
   "metadata": {},
   "outputs": [
    {
     "name": "stdout",
     "output_type": "stream",
     "text": [
      "The total number of words : 32033\n",
      "The longest word has 15 charachters\n",
      "The 8 first words are : ['emma', 'olivia', 'ava', 'isabella', 'sophia', 'charlotte', 'mia', 'amelia']\n"
     ]
    }
   ],
   "source": [
    "# read in all the words\n",
    "words = open('names.txt', 'r').read().splitlines()\n",
    "print(f\"The total number of words : {len(words)}\")\n",
    "print(f\"The longest word has {max(len(w) for w in words)} charachters\")\n",
    "print(f\"The 8 first words are : {words[:8]}\")"
   ]
  },
  {
   "cell_type": "code",
   "execution_count": 24,
   "metadata": {},
   "outputs": [
    {
     "name": "stdout",
     "output_type": "stream",
     "text": [
      "The length of chars is 26\n",
      "The encoder (string to integer) that we're going to work with is :\n",
      "{'a': 1, 'b': 2, 'c': 3, 'd': 4, 'e': 5, 'f': 6, 'g': 7, 'h': 8, 'i': 9, 'j': 10, 'k': 11, 'l': 12, 'm': 13, 'n': 14, 'o': 15, 'p': 16, 'q': 17, 'r': 18, 's': 19, 't': 20, 'u': 21, 'v': 22, 'w': 23, 'x': 24, 'y': 25, 'z': 26, '.': 0}\n",
      "\n",
      "The decoder (integer to string) that we're going to work with is :\n",
      "{1: 'a', 2: 'b', 3: 'c', 4: 'd', 5: 'e', 6: 'f', 7: 'g', 8: 'h', 9: 'i', 10: 'j', 11: 'k', 12: 'l', 13: 'm', 14: 'n', 15: 'o', 16: 'p', 17: 'q', 18: 'r', 19: 's', 20: 't', 21: 'u', 22: 'v', 23: 'w', 24: 'x', 25: 'y', 26: 'z', 0: '.'}\n",
      "The vocabulary of size 27 we're working with is :\n",
      "dict_values(['a', 'b', 'c', 'd', 'e', 'f', 'g', 'h', 'i', 'j', 'k', 'l', 'm', 'n', 'o', 'p', 'q', 'r', 's', 't', 'u', 'v', 'w', 'x', 'y', 'z', '.'])\n",
      "\n"
     ]
    }
   ],
   "source": [
    "chars = sorted(list(set(''.join(words))))\n",
    "print(f\"The length of chars is {len(chars)}\")\n",
    "\n",
    "# Encoder : convert string to integer\n",
    "stoi = {s:i+1 for i,s in enumerate(chars)}\n",
    "stoi['.'] = 0\n",
    "print(f\"The encoder (string to integer) that we're going to work with is :\\n{stoi}\\n\")\n",
    "\n",
    "# Decoder : convert integer to string\n",
    "itos = {i:s for s,i in stoi.items()}\n",
    "print(f\"The decoder (integer to string) that we're going to work with is :\\n{itos}\")\n",
    "\n",
    "# Vocabulary size\n",
    "vocab_size = len(itos)\n",
    "\n",
    "print(f\"The vocabulary of size {len(itos)} we're working with is :\\n{itos.values()}\\n\")"
   ]
  },
  {
   "cell_type": "markdown",
   "metadata": {},
   "source": [
    "# Building the dataset"
   ]
  },
  {
   "cell_type": "code",
   "execution_count": 25,
   "metadata": {
    "scrolled": true
   },
   "outputs": [
    {
     "name": "stdout",
     "output_type": "stream",
     "text": [
      "torch.Size([182625, 8]) torch.Size([182625])\n",
      "torch.Size([22655, 8]) torch.Size([22655])\n",
      "torch.Size([22866, 8]) torch.Size([22866])\n"
     ]
    }
   ],
   "source": [
    "# build the dataset\n",
    "block_size = 8 # context length: how many characters do we take to predict the next one? (T : time dimension)\n",
    "\n",
    "def build_dataset(words):\n",
    "    \"\"\"Takes a list of some words and builds the arrays X and Y\n",
    "    for those words only\"\"\"\n",
    "    \n",
    "    X, Y = [], []\n",
    "  \n",
    "    for w in words:\n",
    "        context = [0] * block_size   # initial context is 8 dots '........'\n",
    "        for ch in w + '.':\n",
    "            ix = stoi[ch]\n",
    "            X.append(context)\n",
    "            Y.append(ix)\n",
    "            context = context[1:] + [ix] # crop and append\n",
    "    \n",
    "    # convert the lists into toch tensors\n",
    "    X = torch.tensor(X)    # contexts\n",
    "    Y = torch.tensor(Y)    # indexes of the ground truths\n",
    "    print(X.shape, Y.shape)\n",
    "    return X, Y\n",
    "\n",
    "\n",
    "import random\n",
    "random.seed(42)\n",
    "random.shuffle(words)      # Shuffling the words\n",
    "n1 = int(0.8*len(words))   # length of the training data (80%)\n",
    "n2 = int(0.9*len(words))   # length of validation data (10%), and the remaigning 10% is for testing\n",
    "\n",
    "# Building training, validation and testing datasets\n",
    "Xtr,  Ytr  = build_dataset(words[:n1])     # 80%\n",
    "Xdev, Ydev = build_dataset(words[n1:n2])   # 10%\n",
    "Xte,  Yte  = build_dataset(words[n2:])     # 10%"
   ]
  },
  {
   "cell_type": "markdown",
   "metadata": {},
   "source": [
    "Let's take a look at the first 20 examples, where each example has a context length of 8 :"
   ]
  },
  {
   "cell_type": "code",
   "execution_count": 26,
   "metadata": {
    "scrolled": true
   },
   "outputs": [
    {
     "name": "stdout",
     "output_type": "stream",
     "text": [
      "........ --> y\n",
      ".......y --> u\n",
      "......yu --> h\n",
      ".....yuh --> e\n",
      "....yuhe --> n\n",
      "...yuhen --> g\n",
      "..yuheng --> .\n",
      "........ --> d\n",
      ".......d --> i\n",
      "......di --> o\n",
      ".....dio --> n\n",
      "....dion --> d\n",
      "...diond --> r\n",
      "..diondr --> e\n",
      ".diondre --> .\n",
      "........ --> x\n",
      ".......x --> a\n",
      "......xa --> v\n",
      ".....xav --> i\n",
      "....xavi --> e\n"
     ]
    }
   ],
   "source": [
    "for x,y in zip(Xtr[:20], Ytr[:20]) :\n",
    "    print(''.join(itos[ix.item()] for ix in x), '-->', itos[y.item()])"
   ]
  },
  {
   "cell_type": "markdown",
   "metadata": {},
   "source": [
    "# Building the classes\n",
    "\n",
    "In the next section, we're going to build our model, but first, we are going to \"Pytorchify\" the code by making it a little bit more simalar to Pytorchby, by building classes of the layers we're going to use in the model."
   ]
  },
  {
   "cell_type": "code",
   "execution_count": 27,
   "metadata": {},
   "outputs": [],
   "source": [
    "# Near copy paste of the layers we have developed in Part (III)\n",
    "\n",
    "# -----------------------------------------------------------------------------------------------\n",
    "class Linear: # similar to 'torch.nn.Linear' class representing a linear transformation layer\n",
    "    \n",
    "    def __init__(self, fan_in, fan_out, bias=True):\n",
    "        # initializations :\n",
    "        self.weight = torch.randn((fan_in, fan_out)) / fan_in**0.5 # note: kaiming init weight matrix is of shape (fan_in, fan_out)\n",
    "        self.bias = torch.zeros(fan_out) if bias else None  # shape (fan_out)\n",
    "  \n",
    "    def __call__(self, x):\n",
    "        self.out = x @ self.weight # (x.shape[0], 'x.shape[1]=fan_in') @ (fan_in,fan_out) -----> (x.shape[0],fan_out)\n",
    "        if self.bias is not None:\n",
    "            self.out += self.bias #(x.shape[0],fan_out) + (fan_out)----broadcasting--->(x.shape[0],fan_out) + (x.shape[0],fan_out)----> (x.shape[0],fan_out)\n",
    "        return self.out   #(x.shape[0],fan_out)\n",
    "\n",
    "    def parameters(self):\n",
    "        return [self.weight] + ([] if self.bias is None else [self.bias])\n",
    "\n",
    "\n",
    "\n",
    "# -----------------------------------------------------------------------------------------------\n",
    "class BatchNorm1d:  # similar to 'torch.nn.BatchNorm1d' class representing a batch normalization layer designed for 1-dimensional input.\n",
    "    \n",
    "    def __init__(self, dim, eps=1e-5, momentum=0.1):\n",
    "        self.eps = eps                             #  epsilon : a value added to the denominator for numerical stability\n",
    "        self.momentum = momentum                   # the value used for the 'running_mean' and 'running_var' computation\n",
    "        self.training = True                       # if we're training = True, otherwise = False\n",
    "        # parameters (trained with backprop)\n",
    "        self.gamma = torch.ones(dim)               # BN gain : dim is number of neurones in the previous hidden layer\n",
    "        self.beta = torch.zeros(dim)               # BN bias\n",
    "        # buffers (trained with a running 'momentum update')\n",
    "        self.running_mean = torch.zeros(dim)\n",
    "        self.running_var = torch.ones(dim)\n",
    "  \n",
    "    def __call__(self, x):\n",
    "        # calculate the forward pass\n",
    "        if self.training :   # during training\n",
    "            if x.ndim == 2:\n",
    "                dim = 0   # calculate mean and var by the 1st dimension\n",
    "            elif x.ndim == 3:\n",
    "                dim = (0,1)  # calculate mean and var rows (1st and 2nd dimensions)\n",
    "            xmean = x.mean(dim, keepdim=True) # batch mean\n",
    "            xvar = x.var(dim, keepdim=True) # batch variance\n",
    "        else : # during evaluation or inference (self.training = False)\n",
    "            xmean = self.running_mean\n",
    "            xvar = self.running_var\n",
    "        xhat = (x - xmean) / torch.sqrt(self.eps + xvar) # normalize to unit variance\n",
    "        self.out = self.gamma * xhat + self.beta\n",
    "        # update the buffers\n",
    "        if self.training: # during training\n",
    "            with torch.no_grad(): # disabling gradient computation for 'running_mean' and 'running_var'\n",
    "                self.running_mean = (1 - self.momentum) * self.running_mean + self.momentum * xmean\n",
    "                self.running_var = (1 - self.momentum) * self.running_var + self.momentum * xvar\n",
    "        return self.out\n",
    "\n",
    "\n",
    "    def parameters(self):\n",
    "        return [self.gamma, self.beta]\n",
    "\n",
    "\n",
    "\n",
    "# -----------------------------------------------------------------------------------------------\n",
    "class Tanh:\n",
    "    \n",
    "    def __call__(self, x):\n",
    "        self.out = torch.tanh(x)\n",
    "        return self.out\n",
    "    \n",
    "    def parameters(self):\n",
    "        return []\n",
    "\n",
    "\n",
    "\n",
    "# -----------------------------------------------------------------------------------------------\n",
    "class Embedding: # similar to 'torch.nn.Embedding'  a class representing a module used for embedding categorical variables into continuous vector representations\n",
    "    \n",
    "    def __init__(self, num_embeddings, embedding_dim):  #'embedding_dim' is 'n_embd'\n",
    "        self.weight = torch.randn((num_embeddings, embedding_dim)) #shape(num_embeddings, embedding_dim)\n",
    "    \n",
    "    def __call__(self, IX):\n",
    "        self.out = self.weight[IX]\n",
    "        return self.out   # shape(embedding_dim)\n",
    "\n",
    "    def parameters(self):\n",
    "        return [self.weight]\n",
    "\n",
    "\n",
    "\n",
    "#-----------------------------------------------------------------------------------------------\n",
    "class FlattenConsecutive:  # Flattening layer to concatenate  the vectors representing each example from the batch \n",
    "    \n",
    "    def __init__(self, n):\n",
    "        self.n = n     # number consecutive elements to be flatten\n",
    "    \n",
    "    def __call__(self, x):\n",
    "        \n",
    "        B, T, C = x.shape   # B : 'batch_size',  T : 'context_size' or 'block_size' (time dimension), C : 'embedding_dim' (channel dimension)\n",
    "        x = x.view(B, T//self.n, C*self.n)  # Each step we flatten n consecutive elements of x from the 2nd dimension into the 3rd dimension\n",
    "        if x.shape[1] == 1:\n",
    "            x = x.squeeze(1)   # squeeze the 2nd dimension : if [2, 1, 2] ----> [2,2]\n",
    "        self.out = x\n",
    "        return self.out # shape(B, T//self.n, C*self.n) or shape(B, C*self.n) \n",
    "  \n",
    "    def parameters(self):\n",
    "        return []\n",
    "\n",
    "\n",
    "\n",
    "#-----------------------------------------------------------------------------------------------\n",
    "class Sequential: # similar to 'torch.nn.Sequential' a class representing a container module. It allows to stack multiple layers/modules sequentially\n",
    "    \n",
    "    def __init__(self, layers): # 'layers' represent here is a list of layers\n",
    "        self.layers = layers\n",
    "  \n",
    "    def __call__(self, x):\n",
    "        for layer in self.layers :\n",
    "            x = layer(x)  #  the __call__ methods from the different layers defined above are applied sequentially on x\n",
    "        self.out = x\n",
    "        return self.out\n",
    "  \n",
    "    def parameters(self):\n",
    "        # get parameters of all layers and stretch them out into one list\n",
    "        return [p for layer in self.layers for p in layer.parameters()]\n"
   ]
  },
  {
   "cell_type": "markdown",
   "metadata": {},
   "source": [
    "# Building the model"
   ]
  },
  {
   "cell_type": "code",
   "execution_count": 28,
   "metadata": {},
   "outputs": [],
   "source": [
    "torch.manual_seed(42); # seed rng for reproducibility"
   ]
  },
  {
   "cell_type": "code",
   "execution_count": 29,
   "metadata": {},
   "outputs": [],
   "source": [
    "# original network\n",
    "# n_embd = 10 # the dimensionality of the character embedding vectors\n",
    "# n_hidden = 300 # the number of neurons in the hidden layer of the MLP\n",
    "# model = Sequential([\n",
    "#   Embedding(vocab_size, n_embd),\n",
    "#   FlattenConsecutive(8), Linear(n_embd * 8, n_hidden, bias=False), BatchNorm1d(n_hidden), Tanh(),\n",
    "#   Linear(n_hidden, vocab_size),\n",
    "# ])"
   ]
  },
  {
   "cell_type": "code",
   "execution_count": 30,
   "metadata": {},
   "outputs": [
    {
     "name": "stdout",
     "output_type": "stream",
     "text": [
      "76579\n"
     ]
    }
   ],
   "source": [
    "# MLP STRUCTURE :\n",
    "## EMBEDDING LAYER : vocab_size ----> (B,T,C) = (batch_size, block_size, n_embd)\n",
    "## 1st FLATTENCONSECUTIVE(2) : (B, T, C) ----> (B, T//2, C*2)\n",
    "## 1st LINEAR : (B, T//2, C*2) @ (C*2, n_hidden)---->(B, T//2, C*2) @ (B, C*2, n_hidden)---> (B,T//2,n_hidden)\n",
    "## 1st BN1d & Tanh : (B,T//2,n_hidden) ---> (B,T//2,n_hidden)----> (B,T//2,n_hidden)\n",
    "## 2nd FLATTENCONSECUTIVE(2) : (B,T//2,n_hidden) ----> (B, T//4, n_hidden*2)\n",
    "## 2nd LINEAR : (B, T//4, n_hidden*2) @ (n_hidden*2, n_hidden) ---> (B, T//4, n_hidden*2) @ (B, n_hidden*2, n_hidden)---> (B, T//4, n_hidden)\n",
    "## 2nd BN1d & tanh : (B, T//4, n_hidden) ---> (B, T//4, n_hidden)---> (B, T//4, n_hidden)\n",
    "## 3rd FLATTENCONSECUTIVE(2): (B, T//4, n_hidden) ----> (B, T//8, n_hidden*2)\n",
    "## 3rd LINEAR : (B, T//8, n_hidden*2) @ (n_hidden*2, n_hidden) ----> (B, T//8, n_hidden*2) @ (B, n_hidden*2, n_hidden)-->(B, T//8, n_hidden)\n",
    "## 3rd BN1d & tanh : (B, T//8, n_hidden) ----> (B, T//8, n_hidden)----> (B, T//8, n_hidden)\n",
    "## 4th LINEAR (output) : (B, T//8, n_hidden) @ (n_hidden, vocab_size)--> (B, T//8, n_hidden) @ (B, n_hidden, vocab_size)-->(B, T//8, vocab_size)\n",
    "\n",
    "\n",
    "# hierarchical network : it's like bacthes of batches\n",
    "n_embd = 24 # the dimensionality of the character embedding vectors\n",
    "n_hidden = 128 # the number of neurons in each hidden layer of the MLP\n",
    "model = Sequential([\n",
    "  Embedding(vocab_size, n_embd),\n",
    "  FlattenConsecutive(2), Linear(n_embd * 2, n_hidden, bias=False), BatchNorm1d(n_hidden), Tanh(),\n",
    "  FlattenConsecutive(2), Linear(n_hidden*2, n_hidden, bias=False), BatchNorm1d(n_hidden), Tanh(),\n",
    "  FlattenConsecutive(2), Linear(n_hidden*2, n_hidden, bias=False), BatchNorm1d(n_hidden), Tanh(),\n",
    "  Linear(n_hidden, vocab_size),\n",
    "]) \n",
    "\n",
    "# parameter init\n",
    "with torch.no_grad():\n",
    "    model.layers[-1].weight *= 0.1 # making the last layer (output) less confident\n",
    "\n",
    "# model's parameters \n",
    "parameters = model.parameters()\n",
    "\n",
    "# number of parameters in total\n",
    "print(sum(p.nelement() for p in parameters)) \n",
    "for p in parameters:\n",
    "    p.requires_grad = True"
   ]
  },
  {
   "cell_type": "markdown",
   "metadata": {},
   "source": [
    "**(B,T,C) :**\n",
    "    \n",
    " - **B :** Batch dimension. It represents the number of samples or data points processed simultaneously in a single forward or backward pass through the neural network. Each sample in the batch typically corresponds to an independent input instance.\n",
    " \n",
    " - **T :** Time dimension. It represents the length or number of time steps in a sequence. This dimension is often associated with sequential data, such as time series or text, where each time step corresponds to a specific point in time or position in the sequence.\n",
    " \n",
    " - **C :** Channel dimension. It represents the number of channels or features at each time step. In image data, for example, each channel could represent a color channel (e.g., red, green, blue) or a feature map extracted by a convolutional layer."
   ]
  },
  {
   "cell_type": "markdown",
   "metadata": {},
   "source": [
    "# Training the model"
   ]
  },
  {
   "cell_type": "code",
   "execution_count": 38,
   "metadata": {},
   "outputs": [
    {
     "name": "stdout",
     "output_type": "stream",
     "text": [
      "      0/ 200000: 3.3167\n",
      "  10000/ 200000: 2.0576\n",
      "  20000/ 200000: 2.0723\n",
      "  30000/ 200000: 2.5134\n",
      "  40000/ 200000: 2.1476\n",
      "  50000/ 200000: 1.7836\n",
      "  60000/ 200000: 2.2592\n",
      "  70000/ 200000: 1.9331\n",
      "  80000/ 200000: 1.6875\n",
      "  90000/ 200000: 2.0395\n",
      " 100000/ 200000: 1.7736\n",
      " 110000/ 200000: 1.9569\n",
      " 120000/ 200000: 1.7465\n",
      " 130000/ 200000: 1.8126\n",
      " 140000/ 200000: 1.7406\n",
      " 150000/ 200000: 1.7466\n",
      " 160000/ 200000: 1.8805\n",
      " 170000/ 200000: 1.6266\n",
      " 180000/ 200000: 1.6476\n",
      " 190000/ 200000: 1.8555\n"
     ]
    }
   ],
   "source": [
    "# same optimization as last time\n",
    "max_steps = 200000\n",
    "batch_size = 32\n",
    "lossi = []  # list containing the computed loss after each iteration i\n",
    "\n",
    "for i in range(max_steps):\n",
    "    \n",
    "    # minibatch construct\n",
    "    ix = torch.randint(0, Xtr.shape[0], (batch_size,)) # return 32 nbs between 0 and Xtr.shape[0]\n",
    "    Xb, Yb = Xtr[ix], Ytr[ix] # batch X,Y : extracting 32 rows from X, and 32 elements from Y\n",
    "  \n",
    "    # forward pass\n",
    "    logits = model(Xb)  # applying the model\n",
    "    loss = F.cross_entropy(logits, Yb) # loss function\n",
    "  \n",
    "    # backward pass\n",
    "    for p in parameters:\n",
    "        p.grad = None  # set the grad to zero in Pytorch\n",
    "    loss.backward()\n",
    "  \n",
    "    # update: simple SGD (Stochastic Gradient Descent)\n",
    "    lr = 0.1 if i < 150000 else 0.01 # step learning rate decay\n",
    "    for p in parameters:\n",
    "        p.data += -lr * p.grad\n",
    "\n",
    "    # track stats\n",
    "    if i % 10000 == 0: # print every once in a while\n",
    "        print(f'{i:7d}/{max_steps:7d}: {loss.item():.4f}')\n",
    "    lossi.append(loss.log10().item())\n"
   ]
  },
  {
   "cell_type": "markdown",
   "metadata": {},
   "source": [
    "Let's plot the losses obtained by the model versus the iterations :"
   ]
  },
  {
   "cell_type": "code",
   "execution_count": 39,
   "metadata": {},
   "outputs": [
    {
     "data": {
      "text/plain": [
       "torch.Size([200000])"
      ]
     },
     "execution_count": 39,
     "metadata": {},
     "output_type": "execute_result"
    }
   ],
   "source": [
    "torch.tensor(lossi).shape"
   ]
  },
  {
   "cell_type": "code",
   "execution_count": 51,
   "metadata": {},
   "outputs": [
    {
     "data": {
      "text/plain": [
       "[<matplotlib.lines.Line2D at 0x2b00fe18be0>]"
      ]
     },
     "execution_count": 51,
     "metadata": {},
     "output_type": "execute_result"
    },
    {
     "data": {
      "image/png": "[encoded data removed]",
      "text/plain": [
       "<Figure size 640x480 with 1 Axes>"
      ]
     },
     "metadata": {},
     "output_type": "display_data"
    }
   ],
   "source": [
    "plt.plot(torch.tensor(lossi).view(-1, 1000).mean(1))  # calculating the mean of lossi each 1000 steps"
   ]
  },
  {
   "cell_type": "markdown",
   "metadata": {},
   "source": [
    "# Evaluating the model\n",
    "\n",
    "First we put the layers into evaluation mode (needed for Batch Normalization especially)"
   ]
  },
  {
   "cell_type": "code",
   "execution_count": 41,
   "metadata": {},
   "outputs": [],
   "source": [
    "for layer in model.layers:\n",
    "    layer.training = False   # set training to false in evaluation and testing"
   ]
  },
  {
   "cell_type": "code",
   "execution_count": 42,
   "metadata": {},
   "outputs": [
    {
     "name": "stdout",
     "output_type": "stream",
     "text": [
      "train 1.769028902053833\n",
      "val 1.9936511516571045\n"
     ]
    }
   ],
   "source": [
    "# evaluate the loss\n",
    "@torch.no_grad() # this decorator disables gradient tracking inside pytorch\n",
    "def split_loss(split):\n",
    "    \"\"\"given the 'split' ('train' or 'val' or 'test') the function will apply the model\n",
    "    on the given 'split' dataset and return the loss\"\"\"\n",
    "        \n",
    "    x,y = {\n",
    "    'train': (Xtr, Ytr),\n",
    "    'val': (Xdev, Ydev),\n",
    "    'test': (Xte, Yte),\n",
    "    }[split]\n",
    "    logits = model(x)\n",
    "    loss = F.cross_entropy(logits, y)\n",
    "    print(split, loss.item())\n",
    "\n",
    "split_loss('train')\n",
    "split_loss('val')"
   ]
  },
  {
   "cell_type": "code",
   "execution_count": 58,
   "metadata": {},
   "outputs": [
    {
     "data": {
      "text/plain": [
       "torch.Size([22655, 8])"
      ]
     },
     "execution_count": 58,
     "metadata": {},
     "output_type": "execute_result"
    }
   ],
   "source": [
    "Xdev.shape"
   ]
  },
  {
   "cell_type": "code",
   "execution_count": 56,
   "metadata": {
    "scrolled": true
   },
   "outputs": [
    {
     "name": "stdout",
     "output_type": "stream",
     "text": [
      "Embedding 's output : (1, 8, 24)\n",
      "FlattenConsecutive 's output : (1, 4, 48)\n",
      "Linear 's output : (1, 4, 128)\n",
      "BatchNorm1d 's output : (1, 4, 128)\n",
      "Tanh 's output : (1, 4, 128)\n",
      "FlattenConsecutive 's output : (1, 2, 256)\n",
      "Linear 's output : (1, 2, 128)\n",
      "BatchNorm1d 's output : (1, 2, 128)\n",
      "Tanh 's output : (1, 2, 128)\n",
      "FlattenConsecutive 's output : (1, 256)\n",
      "Linear 's output : (1, 128)\n",
      "BatchNorm1d 's output : (1, 128)\n",
      "Tanh 's output : (1, 128)\n",
      "Linear 's output : (1, 27)\n"
     ]
    }
   ],
   "source": [
    "for layer in model.layers :\n",
    "    print(layer.__class__.__name__, \"'s output :\", tuple(layer.out.shape))"
   ]
  },
  {
   "cell_type": "markdown",
   "metadata": {},
   "source": [
    "Notice that according the model we build, we have `B=1`, `T = block_size = 8` and `C = n_embd = 24`, after the third `FlattenConsecutive` layer since `T//8 = 1` the second dimension equal to 1 will be squeezed going from $(1,1,128)=>(1,128).$"
   ]
  },
  {
   "cell_type": "markdown",
   "metadata": {},
   "source": [
    "### performance log\n",
    "\n",
    "- original (3 character context + 200 hidden neurons, 12K params): train 2.058, val 2.105\n",
    "- context: 3 -> 8 (22K params): train 1.918, val 2.027\n",
    "- flat -> hierarchical (22K params): train 1.941, val 2.029\n",
    "- fix bug in batchnorm: train 1.912, val 2.022\n",
    "- scale up the network: n_embd 24, n_hidden 128 (76K params): train 1.769, val 1.993\n"
   ]
  },
  {
   "cell_type": "markdown",
   "metadata": {},
   "source": [
    "# Generating names"
   ]
  },
  {
   "cell_type": "code",
   "execution_count": 44,
   "metadata": {},
   "outputs": [
    {
     "name": "stdout",
     "output_type": "stream",
     "text": [
      "aiyanah.\n",
      "giusopf.\n",
      "lorron.\n",
      "roger.\n",
      "rhyitte.\n",
      "christell.\n",
      "jedmccee.\n",
      "kelipson.\n",
      "briyah.\n",
      "sylot.\n",
      "zennica.\n",
      "mythan.\n",
      "daxphon.\n",
      "petrit.\n",
      "adalie.\n",
      "jeniyah.\n",
      "glatipe.\n",
      "manaswi.\n",
      "yeslee.\n",
      "stephania.\n"
     ]
    }
   ],
   "source": [
    "# sample from the model\n",
    "for _ in range(20):   # 20 generated words\n",
    "    \n",
    "    out = []\n",
    "    context = [0] * block_size # initialize with all ...\n",
    "    while True:\n",
    "        # forward pass the neural net\n",
    "        logits = model(torch.tensor([context]))\n",
    "        probs = F.softmax(logits, dim=1)\n",
    "        # sample from the distribution\n",
    "        ix = torch.multinomial(probs, num_samples=1).item()\n",
    "        # shift the context window and track the samples\n",
    "        context = context[1:] + [ix]\n",
    "        out.append(ix)\n",
    "        # if we sample the special '.' token, break\n",
    "        if ix == 0:\n",
    "            break\n",
    "    \n",
    "    print(''.join(itos[i] for i in out)) # decode and print the generated word"
   ]
  },
  {
   "cell_type": "markdown",
   "metadata": {},
   "source": [
    "### Next time:\n",
    "Why convolutions? Brief preview/hint"
   ]
  },
  {
   "cell_type": "code",
   "execution_count": 60,
   "metadata": {
    "scrolled": true
   },
   "outputs": [
    {
     "name": "stdout",
     "output_type": "stream",
     "text": [
      "........ --> d\n",
      ".......d --> i\n",
      "......di --> o\n",
      ".....dio --> n\n",
      "....dion --> d\n",
      "...diond --> r\n",
      "..diondr --> e\n",
      ".diondre --> .\n"
     ]
    }
   ],
   "source": [
    "for x,y in zip(Xtr[7:15], Ytr[7:15]):\n",
    "    print(''.join(itos[ix.item()] for ix in x), '-->', itos[y.item()])"
   ]
  },
  {
   "cell_type": "code",
   "execution_count": 66,
   "metadata": {},
   "outputs": [
    {
     "name": "stdout",
     "output_type": "stream",
     "text": [
      "tensor([0, 0, 0, 0, 0, 0, 0, 0])\n",
      "tensor([[0, 0, 0, 0, 0, 0, 0, 0]])\n"
     ]
    }
   ],
   "source": [
    "print(Xtr[7])\n",
    "print(Xtr[[7]])"
   ]
  },
  {
   "cell_type": "code",
   "execution_count": 61,
   "metadata": {},
   "outputs": [
    {
     "data": {
      "text/plain": [
       "torch.Size([1, 27])"
      ]
     },
     "execution_count": 61,
     "metadata": {},
     "output_type": "execute_result"
    }
   ],
   "source": [
    "# forward a single example:\n",
    "logits = model(Xtr[[7]])\n",
    "logits.shape"
   ]
  },
  {
   "cell_type": "code",
   "execution_count": 62,
   "metadata": {},
   "outputs": [
    {
     "data": {
      "text/plain": [
       "tensor([[-6.1992,  2.1324,  0.7035,  0.8462,  0.9257,  0.8962, -0.4740, -0.1514,\n",
       "          0.3707, -0.4270,  1.2310,  1.4139,  0.9954,  1.2296,  0.7075, -0.3372,\n",
       "         -0.4053, -2.0900,  1.0720,  1.3119,  0.7226, -2.4925, -0.4803, -0.6256,\n",
       "         -1.6393, -0.3046,  0.4911]], grad_fn=<AddBackward0>)"
      ]
     },
     "execution_count": 62,
     "metadata": {},
     "output_type": "execute_result"
    }
   ],
   "source": [
    "logits"
   ]
  },
  {
   "cell_type": "code",
   "execution_count": 64,
   "metadata": {},
   "outputs": [
    {
     "data": {
      "text/plain": [
       "torch.Size([8, 27])"
      ]
     },
     "execution_count": 64,
     "metadata": {},
     "output_type": "execute_result"
    }
   ],
   "source": [
    "# forward all of them\n",
    "logits = torch.zeros(8, 27)  # pre alocating some memory \n",
    "for i in range(8):\n",
    "    logits[i] = model(Xtr[[7+i]]) # genrating letter by letter\n",
    "logits.shape"
   ]
  },
  {
   "cell_type": "code",
   "execution_count": 65,
   "metadata": {},
   "outputs": [
    {
     "data": {
      "text/plain": [
       "tensor([[-6.1992,  2.1324,  0.7035,  0.8462,  0.9257,  0.8962, -0.4740, -0.1514,\n",
       "          0.3707, -0.4270,  1.2310,  1.4139,  0.9954,  1.2296,  0.7075, -0.3372,\n",
       "         -0.4053, -2.0900,  1.0720,  1.3119,  0.7226, -2.4925, -0.4803, -0.6256,\n",
       "         -1.6393, -0.3046,  0.4911],\n",
       "        [-2.0451,  6.1436, -3.3007, -2.4050, -2.4362,  5.5334, -2.3488, -2.2467,\n",
       "          2.6856,  4.0862, -0.2443, -3.3948, -0.5140,  2.4130,  0.4427,  4.1665,\n",
       "         -3.5143, -4.2593,  3.6217,  0.1101, -4.2976,  2.7013,  0.7567,  0.8822,\n",
       "         -3.5193,  2.4152, -1.9327],\n",
       "        [-2.0515,  2.9153, -1.4507, -0.6272,  0.7754,  1.2553, -2.3827, -0.9021,\n",
       "         -1.1156, -1.3823, -0.5744,  0.8473,  2.9489,  1.7160,  1.6271,  2.8599,\n",
       "         -1.8846, -2.4968,  0.5958,  0.7054,  0.5962, -1.6562,  1.9487, -1.9058,\n",
       "         -1.7698,  1.9910, -0.7634],\n",
       "        [ 2.5460, -0.5013, -0.6957, -1.8096, -1.5929, -1.1960, -2.7979, -0.3748,\n",
       "         -2.6381, -0.0702, -1.4247, -2.0187,  1.8558,  1.5591,  6.4173, -1.8837,\n",
       "          0.6306, -4.2708,  3.6122,  1.9284,  1.7122,  1.2303,  0.7122,  1.3554,\n",
       "         -1.2117, -0.7441, -0.4886],\n",
       "        [ 4.7327,  4.7630, -1.6218,  0.2150,  2.9634,  3.5313, -4.7046,  1.5583,\n",
       "         -1.0835,  3.3985, -2.2292, -0.4407,  0.4530, -0.9289,  4.2626,  1.5813,\n",
       "         -5.0891, -2.2934, -0.4269,  0.3578,  3.8064, -1.0057, -2.5035, -5.8774,\n",
       "         -5.2382,  2.8118, -1.2701],\n",
       "        [ 5.2756,  5.6734, -0.5147, -1.4717, -0.9784,  3.5317, -3.6417, -0.5655,\n",
       "          0.5784,  2.6570, -1.5693, -2.8208,  1.3348, -1.2274, -0.3874,  3.7561,\n",
       "         -3.0132, -2.8712,  6.7561,  1.2253, -3.2309, -0.3288, -1.7969, -1.6017,\n",
       "         -5.1406,  2.2209, -1.6725],\n",
       "        [ 2.6423,  6.0039, -3.3506, -1.2113,  1.7946,  8.5824, -6.0210, -0.4277,\n",
       "         -1.4302,  5.5446, -2.5487, -0.1349, -2.4457, -3.9459, -0.5753,  5.0790,\n",
       "         -6.9950, -2.2823,  2.3002,  0.6088,  0.4943,  4.5200, -2.5268, -2.8948,\n",
       "         -3.4534,  4.5490, -1.3377],\n",
       "        [ 7.1075,  2.6331, -3.6672, -0.3305, -1.4421,  2.3150, -3.0131, -1.8795,\n",
       "         -0.3434,  2.4609, -0.9343, -0.2223,  1.0463, -1.7087,  0.6394,  2.1649,\n",
       "         -2.8731, -3.7504, -0.4452,  1.1666,  0.0167,  1.7582, -1.2484,  0.7749,\n",
       "         -1.3813,  3.7953, -2.2480]], grad_fn=<CopySlices>)"
      ]
     },
     "execution_count": 65,
     "metadata": {},
     "output_type": "execute_result"
    }
   ],
   "source": [
    "logits"
   ]
  },
  {
   "cell_type": "code",
   "execution_count": 48,
   "metadata": {},
   "outputs": [],
   "source": [
    "# convolution is like a \"for loop\"\n",
    "# it allows us to forward Linear layers efficiently over space"
   ]
  },
  {
   "cell_type": "markdown",
   "metadata": {},
   "source": [
    "[Younes Dahami](https://www.linkedin.com/in/dahami/)"
   ]
  },
  {
   "cell_type": "code",
   "execution_count": null,
   "metadata": {},
   "outputs": [],
   "source": []
  }
 ],
 "metadata": {
  "kernelspec": {
   "display_name": "Python 3 (ipykernel)",
   "language": "python",
   "name": "python3"
  },
  "language_info": {
   "codemirror_mode": {
    "name": "ipython",
    "version": 3
   },
   "file_extension": ".py",
   "mimetype": "text/x-python",
   "name": "python",
   "nbconvert_exporter": "python",
   "pygments_lexer": "ipython3",
   "version": "3.10.10"
  }
 },
 "nbformat": 4,
 "nbformat_minor": 4
}
